{
  "nbformat": 4,
  "nbformat_minor": 0,
  "metadata": {
    "colab": {
      "provenance": [],
      "authorship_tag": "ABX9TyOG/aJNP6SziLSR0WQyHpDU",
      "include_colab_link": true
    },
    "kernelspec": {
      "name": "python3",
      "display_name": "Python 3"
    },
    "language_info": {
      "name": "python"
    }
  },
  "cells": [
    {
      "cell_type": "markdown",
      "metadata": {
        "id": "view-in-github",
        "colab_type": "text"
      },
      "source": [
        "<a href=\"https://colab.research.google.com/github/Sobia1319/PIAIC254477/blob/main/PIAIC254477.ipynb\" target=\"_parent\"><img src=\"https://colab.research.google.com/assets/colab-badge.svg\" alt=\"Open In Colab\"/></a>"
      ]
    },
    {
      "cell_type": "code",
      "execution_count": null,
      "metadata": {
        "id": "xUW10_9Qwavl"
      },
      "outputs": [],
      "source": []
    },
    {
      "cell_type": "markdown",
      "source": [
        "Python Assignment 03\n",
        "Part 1: Working with Variables, Input, and Strings\n",
        "Prompt for user input"
      ],
      "metadata": {
        "id": "wVNiPoLJwn4_"
      }
    },
    {
      "cell_type": "code",
      "source": [
        "#Ask the user to enter their full name and store it in a variable named full_name\n",
        "full_name = input(\"Enter your full name: \")\n",
        "#Print a greeting message\n",
        "print(f\"Hello, {full_name}! Welcome to the Python Assisgnment.\")\n"
      ],
      "metadata": {
        "colab": {
          "base_uri": "https://localhost:8080/"
        },
        "id": "MLYpPzUiwwaE",
        "outputId": "6d7dd1dc-70d4-43d3-90c8-3259d7e91bd4"
      },
      "execution_count": 3,
      "outputs": [
        {
          "output_type": "stream",
          "name": "stdout",
          "text": [
            "Enter your full name: Sobia Wazir\n",
            "Hello, Sobia Wazir! Welcome to the Python Assisgnment.\n"
          ]
        }
      ]
    },
    {
      "cell_type": "markdown",
      "source": [
        "String methods\n"
      ],
      "metadata": {
        "id": "-6UP2b71ybLp"
      }
    },
    {
      "cell_type": "code",
      "source": [
        "#Print the user’s name in all uppercase letters.\n",
        "print(f\"Your name in uppercase letters is: {full_name.upper()}\")\n",
        "#Print the user’s name in all lowercase letters.\n",
        "print(f\"Your name in lowercase letters is: {full_name.lower()}\")\n",
        "#Print the length of the user’s name (number of characters).\n",
        "print(f\"Your name's length is: {len(full_name)}\")\n",
        "#Replace all the spaces in the user’s name with hyphens (-), and print the result.\n",
        "full_name_without_spaces = full_name.replace(\" \", \"-\")\n",
        "print(f\"Your name with hyphens is: {full_name_without_spaces}\")\n",
        "#Trim any leading or trailing spaces (if any) from the user’s name using strip().\n",
        "full_name_without_leading = full_name.strip()\n",
        "print(f\"Your name without leading or trailing spaces is: {full_name_without_leading}\")"
      ],
      "metadata": {
        "colab": {
          "base_uri": "https://localhost:8080/"
        },
        "id": "N19OIXFv2dui",
        "outputId": "c465c587-b4d4-4c73-8496-935154fd8de2"
      },
      "execution_count": 9,
      "outputs": [
        {
          "output_type": "stream",
          "name": "stdout",
          "text": [
            "Your name in uppercase letters is: SOBIA WAZIR\n",
            "Your name in lowercase letters is: sobia wazir\n",
            "Your name's length is: 11\n",
            "Your name with hyphens is: Sobia-Wazir\n",
            "Your name without leading or trailing spaces is: Sobia Wazir\n"
          ]
        }
      ]
    },
    {
      "cell_type": "markdown",
      "source": [
        "Type casting and numeric operations"
      ],
      "metadata": {
        "id": "-BtYIKujHZOf"
      }
    },
    {
      "cell_type": "code",
      "source": [
        "#Ask the user to enter their birth year (as input).\n",
        "birth_year = input(\"Enter your birth year: \")\n",
        "#Convert into integer\n",
        "birth_year_int = int(birth_year)\n",
        "#Calculate the user’s age by subtracting their birth year from the current year (2023).\n",
        "current_year = 2024\n",
        "age = current_year - birth_year_int\n",
        "print(f\"You are approximately {age} years old.\")"
      ],
      "metadata": {
        "colab": {
          "base_uri": "https://localhost:8080/"
        },
        "id": "e4wCJzRZHbdR",
        "outputId": "7c73f3c0-ef12-4cb9-8818-d4eb9d4bc03f"
      },
      "execution_count": 2,
      "outputs": [
        {
          "output_type": "stream",
          "name": "stdout",
          "text": [
            "Enter your birth year: 1993\n",
            "You are approximately 31 years old.\n"
          ]
        }
      ]
    },
    {
      "cell_type": "markdown",
      "source": [
        "Part 2: Lists and Indexing\n",
        "1. Create a list from user input\n",
        "\n",
        "\n",
        "\n"
      ],
      "metadata": {
        "id": "9IsxCQmlfMvV"
      }
    },
    {
      "cell_type": "code",
      "source": [
        "\n",
        "\n"
      ],
      "metadata": {
        "colab": {
          "base_uri": "https://localhost:8080/"
        },
        "id": "zNlcJ5KHfWIL",
        "outputId": "8411ebd5-d9e5-4be7-ba57-b0f70e9d9ffa"
      },
      "execution_count": 3,
      "outputs": [
        {
          "output_type": "stream",
          "name": "stdout",
          "text": [
            "Enter three of your favorite fruits (e.g., 'apple,banana,orange'): apple,banana,orange\n",
            "['apple', 'banana', 'orange']\n"
          ]
        }
      ]
    },
    {
      "cell_type": "markdown",
      "source": [
        "2. List indexing and slicing"
      ],
      "metadata": {
        "id": "gN8kKmo6iaiE"
      }
    },
    {
      "cell_type": "markdown",
      "source": [],
      "metadata": {
        "id": "e2A6pQVMF3HE"
      }
    },
    {
      "cell_type": "code",
      "source": [
        "#Prompt the user to enter three of their favorite fruits (e.g., \"apple,banana,orange\") in one line, separated by commas.\n",
        "fruits = input(\"Enter three of your favorite fruits (e.g., 'apple,banana,orange'): \").split(\",\")\n",
        "#Print the list.\n",
        "print(f\"{fruits}\")\n",
        "#Print the first fruit in the list.\n",
        "print(f\"The first fruit in the list is: {fruits[0]}\")\n",
        "#Print the last fruit in the list.\n",
        "print(f\"The last fruit in the list is: {fruits[-1]}\")\n",
        "#Print the number of fruits in the list.\n",
        "print(f\"The number of fruits in the list is: {len(fruits)}\")\n",
        "#Print the second fruit in the list using indexing (i.e., fruit_list[1]).\n",
        "print(f\"The second fruit in the list is: {fruits[1]}\")\n",
        "#Print the last three fruits in the list using slicing.\n",
        "print(f\"The last three fruits in the list are: {fruits[-3:]}\")\n",
        "#Print the slice of the list containing the first two fruits.\n",
        "print(f\"The slice of the list containing the first two fruits is: {fruits[:2]}\")"
      ],
      "metadata": {
        "colab": {
          "base_uri": "https://localhost:8080/"
        },
        "id": "INlggJFXiqO5",
        "outputId": "87c2eeee-69f4-4e28-940a-45f941f31d3e"
      },
      "execution_count": 4,
      "outputs": [
        {
          "output_type": "stream",
          "name": "stdout",
          "text": [
            "Enter three of your favorite fruits (e.g., 'apple,banana,orange'): apple,banana,orange\n",
            "['apple', 'banana', 'orange']\n",
            "The first fruit in the list is: apple\n",
            "The last fruit in the list is: orange\n",
            "The number of fruits in the list is: 3\n",
            "The second fruit in the list is: banana\n",
            "The last three fruits in the list are: ['apple', 'banana', 'orange']\n",
            "The slice of the list containing the first two fruits is: ['apple', 'banana']\n"
          ]
        }
      ]
    },
    {
      "cell_type": "markdown",
      "source": [
        "3. List methods"
      ],
      "metadata": {
        "id": "RzUP6BMjF7Rv"
      }
    },
    {
      "cell_type": "code",
      "source": [
        "#Append a new fruit to the list using append().\n",
        "new_fruit = input(\"Enter a new fruit to append to the list: \")\n",
        "fruits.append(new_fruit)\n",
        "#Print the updated list.\n",
        "print(f\"The updated list is: {fruits}\")\n",
        "#Remove one fruit from the list using remove() (or pop()).\n",
        "removed_fruit = input(\"Enter a fruit to remove from the list: \")\n",
        "fruits.remove(removed_fruit)\n",
        "#Print the updated list again.\n",
        "print(f\"The updated list after removing is: {fruits}\")\n",
        "#Sort the list in alphabetical order using sort().\n",
        "fruits.sort()\n",
        "#Print the sorted list.\n",
        "print(f\"The sorted list is: {fruits}\")\n",
        "\n",
        "\n",
        "#Print the length of the list using len().\n",
        "#print(f\"The length of the list is: {len(fruits)}\")"
      ],
      "metadata": {
        "colab": {
          "base_uri": "https://localhost:8080/"
        },
        "id": "-ciFYlloHuKq",
        "outputId": "359d2810-2be7-43e7-ac7c-b7225874fc44"
      },
      "execution_count": 5,
      "outputs": [
        {
          "output_type": "stream",
          "name": "stdout",
          "text": [
            "Enter a new fruit to append to the list: mango\n",
            "The updated list is: ['apple', 'banana', 'orange', 'mango']\n",
            "Enter a fruit to remove from the list: orange\n",
            "The updated list after removing is: ['apple', 'banana', 'mango']\n",
            "The sorted list is: ['apple', 'banana', 'mango']\n"
          ]
        }
      ]
    },
    {
      "cell_type": "markdown",
      "source": [
        "RQ1: Converting strings to integers for numeric operations\n",
        "Python interprets user input through the input() function as strings by default. When we need to perform mathematical operations, strings won't work because they represent text rather than numbers. For example:\n",
        "pythonCopy# Without conversion\n",
        "user_input = \"5\"\n",
        "result = user_input + \"3\"  # Results in \"53\" (string concatenation)\n",
        "\n",
        "# With conversion\n",
        "user_input = int(\"5\")\n",
        "result = user_input + 3    # Results in 8 (numeric addition)\n",
        "RQ2: Handling non-numeric input\n",
        "Yes, trying to convert non-numeric input to integers can cause ValueErrors. Here's how we can handle this safely:\n",
        "pythonCopytry:\n",
        "    user_input = int(input(\"Enter a number: \"))\n",
        "except ValueError:\n",
        "    print(\"Please enter a valid number!\")\n",
        "    # Could also: set a default value, ask again, or exit gracefully\n",
        "RQ3: Benefits of slicing and indexing\n",
        "Slicing and indexing are powerful tools for data manipulation because they allow you to:\n",
        "\n",
        "Extract specific portions of data (like getting the first name from a full name string)\n",
        "Reverse sequences (using negative step values)\n",
        "Create copies or subsets of data without modifying the original\n",
        "Process data in chunks or patterns\n",
        "\n",
        "For example:\n",
        "pythonCopytext = \"Hello World\"\n",
        "first_five = text[0:5]      # \"Hello\"\n",
        "reversed_text = text[::-1]  # \"dlroW olleH\"\n",
        "every_other = text[::2]     # \"HloWrd\"\n",
        "RQ4: Multiple variables vs. lists\n",
        "Advantages of using multiple variables:\n",
        "\n",
        "More descriptive (each variable can have a meaningful name)\n",
        "Direct access without indexing\n",
        "Type checking is more straightforward\n",
        "Easier to understand for simple programs\n",
        "\n",
        "Advantages of using lists:\n",
        "\n",
        "Better for handling similar types of data\n",
        "Easier to loop through items\n",
        "More scalable for larger amounts of data\n",
        "Better memory management\n",
        "Enables list comprehensions and other powerful Python features\n",
        "\n",
        "Example comparing both approaches:\n",
        "pythonCopy# Multiple variables\n",
        "first_name = \"John\"\n",
        "second_name = \"Jane\"\n",
        "third_name = \"Bob\"\n",
        "# Need separate operations for each\n",
        "print(first_name.upper())\n",
        "print(second_name.upper())\n",
        "print(third_name.upper())\n",
        "\n",
        "# List approach\n",
        "names = [\"John\", \"Jane\", \"Bob\"]\n",
        "# Can handle all items in one operation\n",
        "for name in names:\n",
        "    print(name.upper())"
      ],
      "metadata": {
        "id": "VjE1LEtGjQeV"
      }
    }
  ]
}